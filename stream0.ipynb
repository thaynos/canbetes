{
 "cells": [
  {
   "cell_type": "code",
   "execution_count": 13,
   "id": "44aff9c1",
   "metadata": {},
   "outputs": [],
   "source": [
    "import streamlit as st\n",
    "import pandas as pd\n",
    "import numpy as np\n",
    "import tensorflow as tf\n",
    "from sklearn.preprocessing import StandardScaler"
   ]
  },
  {
   "cell_type": "code",
   "execution_count": 14,
   "id": "a1154eee",
   "metadata": {},
   "outputs": [],
   "source": [
    "# Load your CSV file\n",
    "def load_data():\n",
    "    # Replace 'your_file.csv' with the actual file path\n",
    "    df = pd.read_csv('cancer.csv')\n",
    "    return df\n",
    "\n",
    "data = load_data()\n",
    "\n",
    "st.title(\"Cancer Diagnosis Prediction\")\n",
    "\n",
    "features = data.drop(columns=['diagnosis(1=m, 0=b)'])  # Remove the target variable\n"
   ]
  },
  {
   "cell_type": "code",
   "execution_count": 15,
   "id": "823de8fe",
   "metadata": {},
   "outputs": [],
   "source": [
    "# Define minimum and maximum values for each column\n",
    "column_ranges = {\n",
    "    'radius_mean': (6.981, 28.11),\n",
    "    'texture_mean': (9.71, 39.28),\n",
    "    'perimeter_mean': (43.79, 188.5),\n",
    "    'area_mean': (143.5, 2501),\n",
    "    'smoothness_mean': (0.05263, 0.1634),\n",
    "    'compactness_mean': (0.01938, 0.3454),\n",
    "    'concavity_mean': (0, 0.4268),\n",
    "    'concave points_mean': (0, 0.2012),\n",
    "    'symmetry_mean': (0.106, 0.304),\n",
    "    'fractal_dimension_mean': (0.04996, 0.09744),\n",
    "    'radius_se': (0.1115, 2.873),\n",
    "    'texture_se': (0.3602, 4.885),\n",
    "    'perimeter_se': (0.757, 21.98),\n",
    "    'area_se': (6.802, 542.2),\n",
    "    'smoothness_se': (0.001713, 0.03113),\n",
    "    'compactness_se': (0.002252, 0.1354),\n",
    "    'concavity_se': (0, 0.396),\n",
    "    'concave points_se': (0, 0.05279),\n",
    "    'symmetry_se': (0.007882, 0.07895),\n",
    "    'fractal_dimension_se': (0.000895, 0.02984),\n",
    "    'radius_worst': (7.93, 36.04),\n",
    "    'texture_worst': (12.02, 49.54),\n",
    "    'perimeter_worst': (50.41, 251.2),\n",
    "    'area_worst': (185.2, 4254),\n",
    "    'smoothness_worst': (0.07117, 0.2226),\n",
    "    'compactness_worst': (0.02729, 1.058),\n",
    "    'concavity_worst': (0, 1.252),\n",
    "    'concave points_worst': (0, 0.291),\n",
    "    'symmetry_worst': (0.1565, 0.6638),\n",
    "    'fractal_dimension_worst': (0.05504, 0.2075)\n",
    "}\n",
    "\n",
    "input_data = {}\n"
   ]
  },
  {
   "cell_type": "code",
   "execution_count": 16,
   "id": "2866f051",
   "metadata": {},
   "outputs": [
    {
     "name": "stderr",
     "output_type": "stream",
     "text": [
      "2023-12-27 20:53:53.548 Session state does not function when running a script without `streamlit run`\n"
     ]
    },
    {
     "ename": "KeyError",
     "evalue": "'st.session_state has no key \"input_data\". Did you forget to initialize it? More info: https://docs.streamlit.io/library/advanced-features/session-state#initialization'",
     "output_type": "error",
     "traceback": [
      "\u001b[1;31m---------------------------------------------------------------------------\u001b[0m",
      "\u001b[1;31mKeyError\u001b[0m                                  Traceback (most recent call last)",
      "File \u001b[1;32mc:\\Users\\haade\\AppData\\Local\\Programs\\Python\\Python310\\lib\\site-packages\\streamlit\\runtime\\state\\session_state.py:394\u001b[0m, in \u001b[0;36mSessionState.__getitem__\u001b[1;34m(self, key)\u001b[0m\n\u001b[0;32m    393\u001b[0m \u001b[38;5;28;01mtry\u001b[39;00m:\n\u001b[1;32m--> 394\u001b[0m     \u001b[38;5;28;01mreturn\u001b[39;00m \u001b[38;5;28;43mself\u001b[39;49m\u001b[38;5;241;43m.\u001b[39;49m\u001b[43m_getitem\u001b[49m\u001b[43m(\u001b[49m\u001b[43mwidget_id\u001b[49m\u001b[43m,\u001b[49m\u001b[43m \u001b[49m\u001b[43mkey\u001b[49m\u001b[43m)\u001b[49m\n\u001b[0;32m    395\u001b[0m \u001b[38;5;28;01mexcept\u001b[39;00m \u001b[38;5;167;01mKeyError\u001b[39;00m:\n",
      "File \u001b[1;32mc:\\Users\\haade\\AppData\\Local\\Programs\\Python\\Python310\\lib\\site-packages\\streamlit\\runtime\\state\\session_state.py:439\u001b[0m, in \u001b[0;36mSessionState._getitem\u001b[1;34m(self, widget_id, user_key)\u001b[0m\n\u001b[0;32m    438\u001b[0m \u001b[38;5;66;03m# We'll never get here\u001b[39;00m\n\u001b[1;32m--> 439\u001b[0m \u001b[38;5;28;01mraise\u001b[39;00m \u001b[38;5;167;01mKeyError\u001b[39;00m\n",
      "\u001b[1;31mKeyError\u001b[0m: ",
      "\nDuring handling of the above exception, another exception occurred:\n",
      "\u001b[1;31mKeyError\u001b[0m                                  Traceback (most recent call last)",
      "Cell \u001b[1;32mIn[16], line 5\u001b[0m\n\u001b[0;32m      3\u001b[0m st\u001b[38;5;241m.\u001b[39msession_state[\u001b[38;5;124m'\u001b[39m\u001b[38;5;124minput_data\u001b[39m\u001b[38;5;124m'\u001b[39m] \u001b[38;5;241m=\u001b[39m {}\n\u001b[0;32m      4\u001b[0m \u001b[38;5;28;01mfor\u001b[39;00m feature_name, _ \u001b[38;5;129;01min\u001b[39;00m column_ranges\u001b[38;5;241m.\u001b[39mitems():\n\u001b[1;32m----> 5\u001b[0m     \u001b[43mst\u001b[49m\u001b[38;5;241;43m.\u001b[39;49m\u001b[43msession_state\u001b[49m\u001b[43m[\u001b[49m\u001b[38;5;124;43m'\u001b[39;49m\u001b[38;5;124;43minput_data\u001b[39;49m\u001b[38;5;124;43m'\u001b[39;49m\u001b[43m]\u001b[49m[feature_name] \u001b[38;5;241m=\u001b[39m column_ranges[feature_name][\u001b[38;5;241m0\u001b[39m]\n",
      "File \u001b[1;32mc:\\Users\\haade\\AppData\\Local\\Programs\\Python\\Python310\\lib\\site-packages\\streamlit\\runtime\\state\\session_state_proxy.py:90\u001b[0m, in \u001b[0;36mSessionStateProxy.__getitem__\u001b[1;34m(self, key)\u001b[0m\n\u001b[0;32m     88\u001b[0m key \u001b[38;5;241m=\u001b[39m \u001b[38;5;28mstr\u001b[39m(key)\n\u001b[0;32m     89\u001b[0m require_valid_user_key(key)\n\u001b[1;32m---> 90\u001b[0m \u001b[38;5;28;01mreturn\u001b[39;00m \u001b[43mget_session_state\u001b[49m\u001b[43m(\u001b[49m\u001b[43m)\u001b[49m\u001b[43m[\u001b[49m\u001b[43mkey\u001b[49m\u001b[43m]\u001b[49m\n",
      "File \u001b[1;32mc:\\Users\\haade\\AppData\\Local\\Programs\\Python\\Python310\\lib\\site-packages\\streamlit\\runtime\\state\\safe_session_state.py:89\u001b[0m, in \u001b[0;36mSafeSessionState.__getitem__\u001b[1;34m(self, key)\u001b[0m\n\u001b[0;32m     87\u001b[0m \u001b[38;5;28mself\u001b[39m\u001b[38;5;241m.\u001b[39m_yield_callback()\n\u001b[0;32m     88\u001b[0m \u001b[38;5;28;01mwith\u001b[39;00m \u001b[38;5;28mself\u001b[39m\u001b[38;5;241m.\u001b[39m_lock:\n\u001b[1;32m---> 89\u001b[0m     \u001b[38;5;28;01mreturn\u001b[39;00m \u001b[38;5;28;43mself\u001b[39;49m\u001b[38;5;241;43m.\u001b[39;49m\u001b[43m_state\u001b[49m\u001b[43m[\u001b[49m\u001b[43mkey\u001b[49m\u001b[43m]\u001b[49m\n",
      "File \u001b[1;32mc:\\Users\\haade\\AppData\\Local\\Programs\\Python\\Python310\\lib\\site-packages\\streamlit\\runtime\\state\\session_state.py:396\u001b[0m, in \u001b[0;36mSessionState.__getitem__\u001b[1;34m(self, key)\u001b[0m\n\u001b[0;32m    394\u001b[0m     \u001b[38;5;28;01mreturn\u001b[39;00m \u001b[38;5;28mself\u001b[39m\u001b[38;5;241m.\u001b[39m_getitem(widget_id, key)\n\u001b[0;32m    395\u001b[0m \u001b[38;5;28;01mexcept\u001b[39;00m \u001b[38;5;167;01mKeyError\u001b[39;00m:\n\u001b[1;32m--> 396\u001b[0m     \u001b[38;5;28;01mraise\u001b[39;00m \u001b[38;5;167;01mKeyError\u001b[39;00m(_missing_key_error_message(key))\n",
      "\u001b[1;31mKeyError\u001b[0m: 'st.session_state has no key \"input_data\". Did you forget to initialize it? More info: https://docs.streamlit.io/library/advanced-features/session-state#initialization'"
     ]
    }
   ],
   "source": [
    "# Initialize input fields in session state\n",
    "if 'input_data' not in st.session_state:\n",
    " st.session_state['input_data'] = {}\n",
    " for feature_name, _ in column_ranges.items():\n",
    "    st.session_state['input_data'][feature_name] = float(column_ranges[feature_name][0])"
   ]
  },
  {
   "cell_type": "code",
   "execution_count": null,
   "id": "87872da4",
   "metadata": {},
   "outputs": [],
   "source": [
    "# Randomize button\n",
    "if st.button(\"Randomize Values\"):\n",
    " for feature_name, (min_range, max_range) in column_ranges.items():\n",
    "     st.session_state['input_data'][feature_name] = np.random.uniform(float(min_range), float(max_range))"
   ]
  },
  {
   "cell_type": "code",
   "execution_count": null,
   "id": "3dd69c33",
   "metadata": {},
   "outputs": [],
   "source": [
    "# Display and input fields for all features\n",
    "for feature_name, (min_range, max_range) in column_ranges.items():\n",
    " feature_value = st.number_input(\n",
    "     f\"Enter {feature_name} ({min_range} - {max_range}):\",\n",
    "     min_value=float(min_range),\n",
    "     max_value=float(max_range),\n",
    "     step=0.01,\n",
    "     key=feature_name,\n",
    "     value=st.session_state['input_data'].get(feature_name, float(min_range)) # Initialize with random or min value\n",
    " )\n",
    " st.session_state['input_data'][feature_name] = feature_value"
   ]
  },
  {
   "cell_type": "code",
   "execution_count": null,
   "id": "64deee12",
   "metadata": {},
   "outputs": [
    {
     "data": {
      "text/html": [
       "<style>#sk-container-id-1 {color: black;}#sk-container-id-1 pre{padding: 0;}#sk-container-id-1 div.sk-toggleable {background-color: white;}#sk-container-id-1 label.sk-toggleable__label {cursor: pointer;display: block;width: 100%;margin-bottom: 0;padding: 0.3em;box-sizing: border-box;text-align: center;}#sk-container-id-1 label.sk-toggleable__label-arrow:before {content: \"▸\";float: left;margin-right: 0.25em;color: #696969;}#sk-container-id-1 label.sk-toggleable__label-arrow:hover:before {color: black;}#sk-container-id-1 div.sk-estimator:hover label.sk-toggleable__label-arrow:before {color: black;}#sk-container-id-1 div.sk-toggleable__content {max-height: 0;max-width: 0;overflow: hidden;text-align: left;background-color: #f0f8ff;}#sk-container-id-1 div.sk-toggleable__content pre {margin: 0.2em;color: black;border-radius: 0.25em;background-color: #f0f8ff;}#sk-container-id-1 input.sk-toggleable__control:checked~div.sk-toggleable__content {max-height: 200px;max-width: 100%;overflow: auto;}#sk-container-id-1 input.sk-toggleable__control:checked~label.sk-toggleable__label-arrow:before {content: \"▾\";}#sk-container-id-1 div.sk-estimator input.sk-toggleable__control:checked~label.sk-toggleable__label {background-color: #d4ebff;}#sk-container-id-1 div.sk-label input.sk-toggleable__control:checked~label.sk-toggleable__label {background-color: #d4ebff;}#sk-container-id-1 input.sk-hidden--visually {border: 0;clip: rect(1px 1px 1px 1px);clip: rect(1px, 1px, 1px, 1px);height: 1px;margin: -1px;overflow: hidden;padding: 0;position: absolute;width: 1px;}#sk-container-id-1 div.sk-estimator {font-family: monospace;background-color: #f0f8ff;border: 1px dotted black;border-radius: 0.25em;box-sizing: border-box;margin-bottom: 0.5em;}#sk-container-id-1 div.sk-estimator:hover {background-color: #d4ebff;}#sk-container-id-1 div.sk-parallel-item::after {content: \"\";width: 100%;border-bottom: 1px solid gray;flex-grow: 1;}#sk-container-id-1 div.sk-label:hover label.sk-toggleable__label {background-color: #d4ebff;}#sk-container-id-1 div.sk-serial::before {content: \"\";position: absolute;border-left: 1px solid gray;box-sizing: border-box;top: 0;bottom: 0;left: 50%;z-index: 0;}#sk-container-id-1 div.sk-serial {display: flex;flex-direction: column;align-items: center;background-color: white;padding-right: 0.2em;padding-left: 0.2em;position: relative;}#sk-container-id-1 div.sk-item {position: relative;z-index: 1;}#sk-container-id-1 div.sk-parallel {display: flex;align-items: stretch;justify-content: center;background-color: white;position: relative;}#sk-container-id-1 div.sk-item::before, #sk-container-id-1 div.sk-parallel-item::before {content: \"\";position: absolute;border-left: 1px solid gray;box-sizing: border-box;top: 0;bottom: 0;left: 50%;z-index: -1;}#sk-container-id-1 div.sk-parallel-item {display: flex;flex-direction: column;z-index: 1;position: relative;background-color: white;}#sk-container-id-1 div.sk-parallel-item:first-child::after {align-self: flex-end;width: 50%;}#sk-container-id-1 div.sk-parallel-item:last-child::after {align-self: flex-start;width: 50%;}#sk-container-id-1 div.sk-parallel-item:only-child::after {width: 0;}#sk-container-id-1 div.sk-dashed-wrapped {border: 1px dashed gray;margin: 0 0.4em 0.5em 0.4em;box-sizing: border-box;padding-bottom: 0.4em;background-color: white;}#sk-container-id-1 div.sk-label label {font-family: monospace;font-weight: bold;display: inline-block;line-height: 1.2em;}#sk-container-id-1 div.sk-label-container {text-align: center;}#sk-container-id-1 div.sk-container {/* jupyter's `normalize.less` sets `[hidden] { display: none; }` but bootstrap.min.css set `[hidden] { display: none !important; }` so we also need the `!important` here to be able to override the default hidden behavior on the sphinx rendered scikit-learn.org. See: https://github.com/scikit-learn/scikit-learn/issues/21755 */display: inline-block !important;position: relative;}#sk-container-id-1 div.sk-text-repr-fallback {display: none;}</style><div id=\"sk-container-id-1\" class=\"sk-top-container\"><div class=\"sk-text-repr-fallback\"><pre>StandardScaler()</pre><b>In a Jupyter environment, please rerun this cell to show the HTML representation or trust the notebook. <br />On GitHub, the HTML representation is unable to render, please try loading this page with nbviewer.org.</b></div><div class=\"sk-container\" hidden><div class=\"sk-item\"><div class=\"sk-estimator sk-toggleable\"><input class=\"sk-toggleable__control sk-hidden--visually\" id=\"sk-estimator-id-1\" type=\"checkbox\" checked><label for=\"sk-estimator-id-1\" class=\"sk-toggleable__label sk-toggleable__label-arrow\">StandardScaler</label><div class=\"sk-toggleable__content\"><pre>StandardScaler()</pre></div></div></div></div></div>"
      ],
      "text/plain": [
       "StandardScaler()"
      ]
     },
     "execution_count": 8,
     "metadata": {},
     "output_type": "execute_result"
    }
   ],
   "source": [
    "# Load your trained model\n",
    "model = tf.keras.models.load_model('cancer_model.h5')\n",
    "scaler = StandardScaler()\n",
    "scaler.fit(features)  # Fit the scaler to your training data"
   ]
  },
  {
   "cell_type": "code",
   "execution_count": null,
   "id": "4e9e4e55",
   "metadata": {},
   "outputs": [],
   "source": [
    "# Remove the target variable from the input data\n",
    "input_data.pop('diagnosis(1=m, 0=b)', None)"
   ]
  },
  {
   "cell_type": "code",
   "execution_count": null,
   "id": "a4baccc0",
   "metadata": {},
   "outputs": [],
   "source": [
    "# Define a button to make predictions\n",
    "if st.button(\"Predict Diagnosis\"):\n",
    "   # Make predictions\n",
    "   input_array = np.array([list(st.session_state['input_data'].values())])\n",
    "   standardized_input = scaler.transform(input_array)\n",
    "   predictions = model.predict(standardized_input)\n",
    "\n",
    "   # Display prediction results\n",
    "   if predictions[0][0] > 0.5:\n",
    "       st.success(\"Predicted Diagnosis: Malignant (1)\")\n",
    "   else:\n",
    "       st.success(\"Predicted Diagnosis: Benign (0)\")\n"
   ]
  },
  {
   "cell_type": "code",
   "execution_count": null,
   "id": "c59af4b4",
   "metadata": {},
   "outputs": [],
   "source": [
    "# Reset button to clear input values\n",
    "if st.button(\"Reset\"):\n",
    "    input_data.clear()\n",
    "    for feature_name, (min_range, max_range) in column_ranges.items():\n",
    "        input_data[feature_name] = float(min_range)"
   ]
  },
  {
   "cell_type": "code",
   "execution_count": null,
   "id": "9f90922f",
   "metadata": {},
   "outputs": [],
   "source": [
    "# Show the input data\n",
    "st.subheader(\"Input Data\")\n",
    "input_df = pd.DataFrame.from_dict(st.session_state['input_data'], orient='index', columns=['Value'])\n",
    "st.write(input_df)\n"
   ]
  }
 ],
 "metadata": {
  "kernelspec": {
   "display_name": "Python 3 (ipykernel)",
   "language": "python",
   "name": "python3"
  },
  "language_info": {
   "codemirror_mode": {
    "name": "ipython",
    "version": 3
   },
   "file_extension": ".py",
   "mimetype": "text/x-python",
   "name": "python",
   "nbconvert_exporter": "python",
   "pygments_lexer": "ipython3",
   "version": "3.11.4"
  }
 },
 "nbformat": 4,
 "nbformat_minor": 5
}
