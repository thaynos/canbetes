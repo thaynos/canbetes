{
 "cells": [
  {
   "cell_type": "code",
   "execution_count": null,
   "id": "e4818a44",
   "metadata": {
    "scrolled": true
   },
   "outputs": [],
   "source": [
    "import streamlit as st\n",
    "import numpy as np\n",
    "import pandas as pd\n",
    "from sklearn.preprocessing import StandardScaler\n",
    "from sklearn.model_selection import train_test_split\n",
    "from sklearn import svm\n",
    "from sklearn.metrics import accuracy_score\n",
    "import joblib"
   ]
  },
  {
   "cell_type": "code",
   "execution_count": null,
   "id": "dd513290",
   "metadata": {},
   "outputs": [],
   "source": [
    "# Load the CSV file\n",
    "def load_data():\n",
    "    df = pd.read_csv('diabetes.csv')\n",
    "    return df\n",
    "\n",
    "diabetes_dataset = load_data()"
   ]
  },
  {
   "cell_type": "code",
   "execution_count": null,
   "id": "eb5947d5",
   "metadata": {},
   "outputs": [],
   "source": [
    "# Separate data and labels\n",
    "X = diabetes_dataset.drop(columns='Outcome', axis=1)\n",
    "Y = diabetes_dataset['Outcome']"
   ]
  },
  {
   "cell_type": "code",
   "execution_count": null,
   "id": "38c3f2f1",
   "metadata": {},
   "outputs": [],
   "source": [
    "# Standardize the data\n",
    "scaler = StandardScaler()\n",
    "scaler.fit(X)\n",
    "X = scaler.transform(X)"
   ]
  },
  {
   "cell_type": "code",
   "execution_count": null,
   "id": "bb930b6a",
   "metadata": {
    "scrolled": false
   },
   "outputs": [],
   "source": [
    "# Load the trained model using joblib\n",
    "classifier = joblib.load('svm_diabetes_model.joblib')\n",
    "\n",
    "st.title(\"Diabetes Prediction\")"
   ]
  },
  {
   "cell_type": "code",
   "execution_count": null,
   "id": "8e1045b6",
   "metadata": {},
   "outputs": [],
   "source": [
    "# Initialize input fields\n",
    "if 'Pregnancies' not in st.session_state:\n",
    "   st.session_state['Pregnancies'] = 0\n",
    "if 'Glucose' not in st.session_state:\n",
    "   st.session_state['Glucose'] = 0\n",
    "if 'BloodPressure' not in st.session_state:\n",
    "   st.session_state['BloodPressure'] = 0\n",
    "if 'SkinThickness' not in st.session_state:\n",
    "   st.session_state['SkinThickness'] = 0\n",
    "if 'Insulin' not in st.session_state:\n",
    "   st.session_state['Insulin'] = 0\n",
    "if 'BMI' not in st.session_state:\n",
    "   st.session_state['BMI'] = 0.0\n",
    "if 'DiabetesPedigreeFunction' not in st.session_state:\n",
    "   st.session_state['DiabetesPedigreeFunction'] = 0.078\n",
    "if 'Age' not in st.session_state:\n",
    "   st.session_state['Age'] = 21"
   ]
  },
  {
   "cell_type": "code",
   "execution_count": null,
   "id": "23be9d6f",
   "metadata": {},
   "outputs": [],
   "source": [
    "# Randomizer button\n",
    "if st.button(\"Value Randomizer\"):\n",
    "    st.session_state['Pregnancies'] = np.random.randint(0, 18)\n",
    "    st.session_state['Glucose'] = np.random.randint(0, 200)\n",
    "    st.session_state['BloodPressure'] = np.random.randint(0, 123)\n",
    "    st.session_state['SkinThickness'] = np.random.randint(0, 100)\n",
    "    st.session_state['Insulin'] = np.random.randint(0, 847)\n",
    "    st.session_state['BMI'] = np.random.uniform(0.0, 67.1)\n",
    "    st.session_state['DiabetesPedigreeFunction'] = np.random.uniform(0.078, 2.42)\n",
    "    st.session_state['Age'] = np.random.randint(21, 82)"
   ]
  },
  {
   "cell_type": "code",
   "execution_count": null,
   "id": "0ec05026",
   "metadata": {},
   "outputs": [],
   "source": [
    "# Input fields\n",
    "st.markdown(\"### Input Fields\")\n",
    "Pregnancies = st.number_input(\"Pregnancies\", min_value=0, max_value=17, value=st.session_state['Pregnancies'], step=1)\n",
    "Glucose = st.number_input(\"Glucose\", min_value=0, max_value=199, value=st.session_state['Glucose'], step=1)\n",
    "BloodPressure = st.number_input(\"Blood Pressure\", min_value=0, max_value=122, value=st.session_state['BloodPressure'], step=1)\n",
    "SkinThickness = st.number_input(\"Skin Thickness\", min_value=0, max_value=99, value=st.session_state['SkinThickness'], step=1)\n",
    "Insulin = st.number_input(\"Insulin\", min_value=0, max_value=846, value=st.session_state['Insulin'], step=1)\n",
    "BMI = st.number_input(\"BMI\", min_value=0.0, max_value=67.1, value=st.session_state['BMI'], step=0.1)\n",
    "DiabetesPedigreeFunction = st.number_input(\"Diabetes Pedigree Function\", min_value=0.078, max_value=2.42, value=st.session_state['DiabetesPedigreeFunction'], step=0.001)\n",
    "Age = st.number_input(\"Age\", min_value=21, max_value=81, value=st.session_state['Age'], step=1)"
   ]
  },
  {
   "cell_type": "code",
   "execution_count": null,
   "id": "ee1fbbd2",
   "metadata": {},
   "outputs": [],
   "source": [
    "# Update session state with new input values\n",
    "st.session_state['Pregnancies'] = Pregnancies\n",
    "st.session_state['Glucose'] = Glucose\n",
    "st.session_state['BloodPressure'] = BloodPressure\n",
    "st.session_state['SkinThickness'] = SkinThickness\n",
    "st.session_state['Insulin'] = Insulin\n",
    "st.session_state['BMI'] = BMI\n",
    "st.session_state['DiabetesPedigreeFunction'] = DiabetesPedigreeFunction\n",
    "st.session_state['Age'] = Age"
   ]
  },
  {
   "cell_type": "code",
   "execution_count": null,
   "id": "c10f3b8d",
   "metadata": {},
   "outputs": [],
   "source": [
    "# Prediction button\n",
    "if st.button(\"Predict\"):\n",
    "    input_data = np.array([[st.session_state['Pregnancies'], st.session_state['Glucose'], st.session_state['BloodPressure'], st.session_state['SkinThickness'], st.session_state['Insulin'], st.session_state['BMI'], st.session_state['DiabetesPedigreeFunction'], st.session_state['Age']]])\n",
    "    std_data = scaler.transform(input_data)\n",
    "    prediction = classifier.predict(std_data)\n",
    "\n",
    "    if prediction[0] == 0:\n",
    "        prediction_text = \"The person is not diabetic.\"\n",
    "    else:\n",
    "        prediction_text = \"The person is diabetic.\"\n",
    "\n",
    "    st.subheader(\"Prediction Result:\")\n",
    "    st.write(prediction_text)"
   ]
  },
  {
   "cell_type": "code",
   "execution_count": null,
   "id": "1b5a2472",
   "metadata": {},
   "outputs": [],
   "source": [
    "# Reset values button\n",
    "if st.button(\"Reset Values\"):\n",
    "    # Resetting input field values to their initial values\n",
    "    st.session_state['Pregnancies'] = 0\n",
    "    st.session_state['Glucose'] = 0\n",
    "    st.session_state['BloodPressure'] = 0\n",
    "    st.session_state['SkinThickness'] = 0\n",
    "    st.session_state['Insulin'] = 0\n",
    "    st.session_state['BMI'] = 0.0\n",
    "    st.session_state['DiabetesPedigreeFunction'] = 0.078\n",
    "    st.session_state['Age'] = 21"
   ]
  }
 ],
 "metadata": {
  "kernelspec": {
   "display_name": "Python 3 (ipykernel)",
   "language": "python",
   "name": "python3"
  },
  "language_info": {
   "codemirror_mode": {
    "name": "ipython",
    "version": 3
   },
   "file_extension": ".py",
   "mimetype": "text/x-python",
   "name": "python",
   "nbconvert_exporter": "python",
   "pygments_lexer": "ipython3",
   "version": "3.10.11"
  }
 },
 "nbformat": 4,
 "nbformat_minor": 5
}
