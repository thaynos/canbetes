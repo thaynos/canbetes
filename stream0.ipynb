{
 "cells": [
  {
   "cell_type": "code",
   "execution_count": null,
   "id": "44aff9c1",
   "metadata": {},
   "outputs": [],
   "source": [
    "import streamlit as st\n",
    "import pandas as pd\n",
    "import numpy as np\n",
    "import tensorflow as tf\n",
    "from sklearn.preprocessing import StandardScaler"
   ]
  },
  {
   "cell_type": "code",
   "execution_count": null,
   "id": "a1154eee",
   "metadata": {},
   "outputs": [],
   "source": [
    "# Loading the CSV file\n",
    "def load_data():\n",
    "    df = pd.read_csv('cancer.csv')\n",
    "    return df\n",
    "\n",
    "data = load_data()\n",
    "\n",
    "st.title(\"Cancer Diagnosis Prediction\")\n",
    "\n",
    "features = data.drop(columns=['diagnosis(1=m, 0=b)'])  # Removing the target variable\n"
   ]
  },
  {
   "cell_type": "code",
   "execution_count": null,
   "id": "823de8fe",
   "metadata": {},
   "outputs": [],
   "source": [
    "# Defining minimum and maximum values for each column\n",
    "column_ranges = {\n",
    "    'radius_mean': (6.981, 28.11),\n",
    "    'texture_mean': (9.71, 39.28),\n",
    "    'perimeter_mean': (43.79, 188.5),\n",
    "    'area_mean': (143.5, 2501),\n",
    "    'smoothness_mean': (0.05263, 0.1634),\n",
    "    'compactness_mean': (0.01938, 0.3454),\n",
    "    'concavity_mean': (0, 0.4268),\n",
    "    'concave points_mean': (0, 0.2012),\n",
    "    'symmetry_mean': (0.106, 0.304),\n",
    "    'fractal_dimension_mean': (0.04996, 0.09744),\n",
    "    'radius_se': (0.1115, 2.873),\n",
    "    'texture_se': (0.3602, 4.885),\n",
    "    'perimeter_se': (0.757, 21.98),\n",
    "    'area_se': (6.802, 542.2),\n",
    "    'smoothness_se': (0.001713, 0.03113),\n",
    "    'compactness_se': (0.002252, 0.1354),\n",
    "    'concavity_se': (0, 0.396),\n",
    "    'concave points_se': (0, 0.05279),\n",
    "    'symmetry_se': (0.007882, 0.07895),\n",
    "    'fractal_dimension_se': (0.000895, 0.02984),\n",
    "    'radius_worst': (7.93, 36.04),\n",
    "    'texture_worst': (12.02, 49.54),\n",
    "    'perimeter_worst': (50.41, 251.2),\n",
    "    'area_worst': (185.2, 4254),\n",
    "    'smoothness_worst': (0.07117, 0.2226),\n",
    "    'compactness_worst': (0.02729, 1.058),\n",
    "    'concavity_worst': (0, 1.252),\n",
    "    'concave points_worst': (0, 0.291),\n",
    "    'symmetry_worst': (0.1565, 0.6638),\n",
    "    'fractal_dimension_worst': (0.05504, 0.2075)\n",
    "}\n",
    "\n",
    "input_data = {}\n"
   ]
  },
  {
   "cell_type": "code",
   "execution_count": null,
   "id": "2866f051",
   "metadata": {},
   "outputs": [],
   "source": [
    "# Initializing input fields in session state\n",
    "if 'input_data' not in st.session_state:\n",
    " st.session_state['input_data'] = {}\n",
    " for feature_name, _ in column_ranges.items():\n",
    "    st.session_state['input_data'][feature_name] = float(column_ranges[feature_name][0])"
   ]
  },
  {
   "cell_type": "code",
   "execution_count": null,
   "id": "87872da4",
   "metadata": {},
   "outputs": [],
   "source": [
    "# Randomizing button\n",
    "if st.button(\"Randomize Values\"):\n",
    " for feature_name, (min_range, max_range) in column_ranges.items():\n",
    "     st.session_state['input_data'][feature_name] = np.random.uniform(float(min_range), float(max_range))"
   ]
  },
  {
   "cell_type": "code",
   "execution_count": null,
   "id": "3dd69c33",
   "metadata": {},
   "outputs": [],
   "source": [
    "# Display and input fields for all features\n",
    "for feature_name, (min_range, max_range) in column_ranges.items():\n",
    " feature_value = st.number_input(\n",
    "     f\"Enter {feature_name} ({min_range} - {max_range}):\",\n",
    "     min_value=float(min_range),\n",
    "     max_value=float(max_range),\n",
    "     step=0.01,\n",
    "     key=feature_name,\n",
    "     value=st.session_state['input_data'].get(feature_name, float(min_range)) # Initialize with random or min value\n",
    " )\n",
    " st.session_state['input_data'][feature_name] = feature_value"
   ]
  },
  {
   "cell_type": "code",
   "execution_count": null,
   "id": "64deee12",
   "metadata": {},
   "outputs": [],
   "source": [
    "# Loading the trained model\n",
    "model = tf.keras.models.load_model('cancer_model.h5')\n",
    "scaler = StandardScaler()\n",
    "scaler.fit(features)  # Fitting the scaler to the training data"
   ]
  },
  {
   "cell_type": "code",
   "execution_count": null,
   "id": "4e9e4e55",
   "metadata": {},
   "outputs": [],
   "source": [
    "# Remove the target variable from the input data\n",
    "input_data.pop('diagnosis(1=m, 0=b)', None)"
   ]
  },
  {
   "cell_type": "code",
   "execution_count": null,
   "id": "a4baccc0",
   "metadata": {},
   "outputs": [],
   "source": [
    "# Define a button to make predictions\n",
    "if st.button(\"Predict Diagnosis\"):\n",
    "   # Make predictions\n",
    "   input_array = np.array([list(st.session_state['input_data'].values())])\n",
    "   standardized_input = scaler.transform(input_array)\n",
    "   predictions = model.predict(standardized_input)\n",
    "\n",
    "   # Display prediction results\n",
    "   if predictions[0][0] > 0.5:\n",
    "       st.success(\"Predicted Diagnosis: Malignant (1)\")\n",
    "   else:\n",
    "       st.success(\"Predicted Diagnosis: Benign (0)\")\n"
   ]
  },
  {
   "cell_type": "code",
   "execution_count": null,
   "id": "c59af4b4",
   "metadata": {},
   "outputs": [],
   "source": [
    "# Reset button to clear input values\n",
    "if st.button(\"Reset\"):\n",
    "    input_data.clear()\n",
    "    for feature_name, (min_range, max_range) in column_ranges.items():\n",
    "        input_data[feature_name] = float(min_range)"
   ]
  },
  {
   "cell_type": "code",
   "execution_count": null,
   "id": "9f90922f",
   "metadata": {},
   "outputs": [],
   "source": [
    "# Show the input data\n",
    "st.subheader(\"Input Data\")\n",
    "input_df = pd.DataFrame.from_dict(st.session_state['input_data'], orient='index', columns=['Value'])\n",
    "st.write(input_df)\n"
   ]
  }
 ],
 "metadata": {
  "kernelspec": {
   "display_name": "Python 3 (ipykernel)",
   "language": "python",
   "name": "python3"
  },
  "language_info": {
   "codemirror_mode": {
    "name": "ipython",
    "version": 3
   },
   "file_extension": ".py",
   "mimetype": "text/x-python",
   "name": "python",
   "nbconvert_exporter": "python",
   "pygments_lexer": "ipython3",
   "version": "3.10.11"
  }
 },
 "nbformat": 4,
 "nbformat_minor": 5
}
