{
 "cells": [
  {
   "cell_type": "code",
   "execution_count": 1,
   "id": "1d9e4826",
   "metadata": {},
   "outputs": [],
   "source": [
    "import pandas as pd\n",
    "\n",
    "# Load your csv file\n",
    "df = pd.read_csv('diabetes.csv')"
   ]
  },
  {
   "cell_type": "code",
   "execution_count": 4,
   "id": "232e4c38",
   "metadata": {},
   "outputs": [
    {
     "name": "stdout",
     "output_type": "stream",
     "text": [
      "Column: Pregnancies\n",
      "Minimum value: 0\n",
      "Maximum value: 17\n",
      "\n",
      "Column: Glucose\n",
      "Minimum value: 0\n",
      "Maximum value: 199\n",
      "\n",
      "Column: BloodPressure\n",
      "Minimum value: 0\n",
      "Maximum value: 122\n",
      "\n",
      "Column: SkinThickness\n",
      "Minimum value: 0\n",
      "Maximum value: 99\n",
      "\n",
      "Column: Insulin\n",
      "Minimum value: 0\n",
      "Maximum value: 846\n",
      "\n",
      "Column: BMI\n",
      "Minimum value: 0.0\n",
      "Maximum value: 67.1\n",
      "\n",
      "Column: DiabetesPedigreeFunction\n",
      "Minimum value: 0.078\n",
      "Maximum value: 2.42\n",
      "\n",
      "Column: Age\n",
      "Minimum value: 21\n",
      "Maximum value: 81\n",
      "\n",
      "Column: Outcome\n",
      "Minimum value: 0\n",
      "Maximum value: 1\n",
      "\n"
     ]
    }
   ],
   "source": [
    "for column in df.columns:\n",
    "    min_value = df[column].min()\n",
    "    max_value = df[column].max()\n",
    "    print(f\"Column: {column}\")\n",
    "    print(f\"Minimum value: {min_value}\")\n",
    "    print(f\"Maximum value: {max_value}\")\n",
    "    print()"
   ]
  },
  {
   "cell_type": "code",
   "execution_count": null,
   "id": "b4875316",
   "metadata": {},
   "outputs": [],
   "source": []
  }
 ],
 "metadata": {
  "kernelspec": {
   "display_name": "Python 3 (ipykernel)",
   "language": "python",
   "name": "python3"
  },
  "language_info": {
   "codemirror_mode": {
    "name": "ipython",
    "version": 3
   },
   "file_extension": ".py",
   "mimetype": "text/x-python",
   "name": "python",
   "nbconvert_exporter": "python",
   "pygments_lexer": "ipython3",
   "version": "3.11.4"
  }
 },
 "nbformat": 4,
 "nbformat_minor": 5
}
