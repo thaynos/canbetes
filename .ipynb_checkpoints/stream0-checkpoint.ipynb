{
 "cells": [
  {
   "cell_type": "code",
   "execution_count": 16,
   "id": "44aff9c1",
   "metadata": {},
   "outputs": [],
   "source": [
    "import streamlit as st\n",
    "import pandas as pd\n",
    "import numpy as np\n",
    "import tensorflow as tf\n",
    "from sklearn.preprocessing import StandardScaler"
   ]
  },
  {
   "cell_type": "code",
   "execution_count": 17,
   "id": "a1154eee",
   "metadata": {},
   "outputs": [],
   "source": [
    "# Load your CSV file\n",
    "def load_data():\n",
    "    # Replace 'your_file.csv' with the actual file path\n",
    "    df = pd.read_csv('cancer.csv')\n",
    "    return df\n",
    "\n",
    "data = load_data()\n",
    "\n",
    "st.title(\"Cancer Diagnosis Prediction\")\n",
    "\n",
    "features = data.drop(columns=['diagnosis(1=m, 0=b)'])  # Remove the target variable\n"
   ]
  },
  {
   "cell_type": "code",
   "execution_count": 18,
   "id": "823de8fe",
   "metadata": {},
   "outputs": [],
   "source": [
    "# Define minimum and maximum values for each column\n",
    "column_ranges = {\n",
    "    'radius_mean': (6.981, 28.11),\n",
    "    'texture_mean': (9.71, 39.28),\n",
    "    'perimeter_mean': (43.79, 188.5),\n",
    "    'area_mean': (143.5, 2501),\n",
    "    'smoothness_mean': (0.05263, 0.1634),\n",
    "    'compactness_mean': (0.01938, 0.3454),\n",
    "    'concavity_mean': (0, 0.4268),\n",
    "    'concave points_mean': (0, 0.2012),\n",
    "    'symmetry_mean': (0.106, 0.304),\n",
    "    'fractal_dimension_mean': (0.04996, 0.09744),\n",
    "    'radius_se': (0.1115, 2.873),\n",
    "    'texture_se': (0.3602, 4.885),\n",
    "    'perimeter_se': (0.757, 21.98),\n",
    "    'area_se': (6.802, 542.2),\n",
    "    'smoothness_se': (0.001713, 0.03113),\n",
    "    'compactness_se': (0.002252, 0.1354),\n",
    "    'concavity_se': (0, 0.396),\n",
    "    'concave points_se': (0, 0.05279),\n",
    "    'symmetry_se': (0.007882, 0.07895),\n",
    "    'fractal_dimension_se': (0.000895, 0.02984),\n",
    "    'radius_worst': (7.93, 36.04),\n",
    "    'texture_worst': (12.02, 49.54),\n",
    "    'perimeter_worst': (50.41, 251.2),\n",
    "    'area_worst': (185.2, 4254),\n",
    "    'smoothness_worst': (0.07117, 0.2226),\n",
    "    'compactness_worst': (0.02729, 1.058),\n",
    "    'concavity_worst': (0, 1.252),\n",
    "    'concave points_worst': (0, 0.291),\n",
    "    'symmetry_worst': (0.1565, 0.6638),\n",
    "    'fractal_dimension_worst': (0.05504, 0.2075)\n",
    "}\n",
    "\n",
    "input_data = {}\n"
   ]
  },
  {
   "cell_type": "code",
   "execution_count": 19,
   "id": "3dd69c33",
   "metadata": {},
   "outputs": [],
   "source": [
    "# Randomize button\n",
    "if st.button(\"Randomize Values\"):\n",
    "    for feature_name, (min_range, max_range) in column_ranges.items():\n",
    "        random_value = np.random.uniform(float(min_range), float(max_range))\n",
    "        input_data[feature_name] = random_value"
   ]
  },
  {
   "cell_type": "code",
   "execution_count": 20,
   "id": "c4f86c81",
   "metadata": {},
   "outputs": [],
   "source": [
    "# Display and input fields for all features\n",
    "for feature_name, (min_range, max_range) in column_ranges.items():\n",
    "    feature_value = st.number_input(\n",
    "        f\"Enter {feature_name} ({min_range} - {max_range}):\",\n",
    "        min_value=float(min_range),\n",
    "        max_value=float(max_range),\n",
    "        step=0.01,\n",
    "        key=feature_name,\n",
    "        value=input_data.get(feature_name, float(min_range))  # Initialize with random or min value\n",
    "    )\n",
    "    input_data[feature_name] = feature_value"
   ]
  },
  {
   "cell_type": "code",
   "execution_count": 21,
   "id": "64deee12",
   "metadata": {},
   "outputs": [
    {
     "data": {
      "text/html": [
       "<style>#sk-container-id-2 {color: black;}#sk-container-id-2 pre{padding: 0;}#sk-container-id-2 div.sk-toggleable {background-color: white;}#sk-container-id-2 label.sk-toggleable__label {cursor: pointer;display: block;width: 100%;margin-bottom: 0;padding: 0.3em;box-sizing: border-box;text-align: center;}#sk-container-id-2 label.sk-toggleable__label-arrow:before {content: \"▸\";float: left;margin-right: 0.25em;color: #696969;}#sk-container-id-2 label.sk-toggleable__label-arrow:hover:before {color: black;}#sk-container-id-2 div.sk-estimator:hover label.sk-toggleable__label-arrow:before {color: black;}#sk-container-id-2 div.sk-toggleable__content {max-height: 0;max-width: 0;overflow: hidden;text-align: left;background-color: #f0f8ff;}#sk-container-id-2 div.sk-toggleable__content pre {margin: 0.2em;color: black;border-radius: 0.25em;background-color: #f0f8ff;}#sk-container-id-2 input.sk-toggleable__control:checked~div.sk-toggleable__content {max-height: 200px;max-width: 100%;overflow: auto;}#sk-container-id-2 input.sk-toggleable__control:checked~label.sk-toggleable__label-arrow:before {content: \"▾\";}#sk-container-id-2 div.sk-estimator input.sk-toggleable__control:checked~label.sk-toggleable__label {background-color: #d4ebff;}#sk-container-id-2 div.sk-label input.sk-toggleable__control:checked~label.sk-toggleable__label {background-color: #d4ebff;}#sk-container-id-2 input.sk-hidden--visually {border: 0;clip: rect(1px 1px 1px 1px);clip: rect(1px, 1px, 1px, 1px);height: 1px;margin: -1px;overflow: hidden;padding: 0;position: absolute;width: 1px;}#sk-container-id-2 div.sk-estimator {font-family: monospace;background-color: #f0f8ff;border: 1px dotted black;border-radius: 0.25em;box-sizing: border-box;margin-bottom: 0.5em;}#sk-container-id-2 div.sk-estimator:hover {background-color: #d4ebff;}#sk-container-id-2 div.sk-parallel-item::after {content: \"\";width: 100%;border-bottom: 1px solid gray;flex-grow: 1;}#sk-container-id-2 div.sk-label:hover label.sk-toggleable__label {background-color: #d4ebff;}#sk-container-id-2 div.sk-serial::before {content: \"\";position: absolute;border-left: 1px solid gray;box-sizing: border-box;top: 0;bottom: 0;left: 50%;z-index: 0;}#sk-container-id-2 div.sk-serial {display: flex;flex-direction: column;align-items: center;background-color: white;padding-right: 0.2em;padding-left: 0.2em;position: relative;}#sk-container-id-2 div.sk-item {position: relative;z-index: 1;}#sk-container-id-2 div.sk-parallel {display: flex;align-items: stretch;justify-content: center;background-color: white;position: relative;}#sk-container-id-2 div.sk-item::before, #sk-container-id-2 div.sk-parallel-item::before {content: \"\";position: absolute;border-left: 1px solid gray;box-sizing: border-box;top: 0;bottom: 0;left: 50%;z-index: -1;}#sk-container-id-2 div.sk-parallel-item {display: flex;flex-direction: column;z-index: 1;position: relative;background-color: white;}#sk-container-id-2 div.sk-parallel-item:first-child::after {align-self: flex-end;width: 50%;}#sk-container-id-2 div.sk-parallel-item:last-child::after {align-self: flex-start;width: 50%;}#sk-container-id-2 div.sk-parallel-item:only-child::after {width: 0;}#sk-container-id-2 div.sk-dashed-wrapped {border: 1px dashed gray;margin: 0 0.4em 0.5em 0.4em;box-sizing: border-box;padding-bottom: 0.4em;background-color: white;}#sk-container-id-2 div.sk-label label {font-family: monospace;font-weight: bold;display: inline-block;line-height: 1.2em;}#sk-container-id-2 div.sk-label-container {text-align: center;}#sk-container-id-2 div.sk-container {/* jupyter's `normalize.less` sets `[hidden] { display: none; }` but bootstrap.min.css set `[hidden] { display: none !important; }` so we also need the `!important` here to be able to override the default hidden behavior on the sphinx rendered scikit-learn.org. See: https://github.com/scikit-learn/scikit-learn/issues/21755 */display: inline-block !important;position: relative;}#sk-container-id-2 div.sk-text-repr-fallback {display: none;}</style><div id=\"sk-container-id-2\" class=\"sk-top-container\"><div class=\"sk-text-repr-fallback\"><pre>StandardScaler()</pre><b>In a Jupyter environment, please rerun this cell to show the HTML representation or trust the notebook. <br />On GitHub, the HTML representation is unable to render, please try loading this page with nbviewer.org.</b></div><div class=\"sk-container\" hidden><div class=\"sk-item\"><div class=\"sk-estimator sk-toggleable\"><input class=\"sk-toggleable__control sk-hidden--visually\" id=\"sk-estimator-id-2\" type=\"checkbox\" checked><label for=\"sk-estimator-id-2\" class=\"sk-toggleable__label sk-toggleable__label-arrow\">StandardScaler</label><div class=\"sk-toggleable__content\"><pre>StandardScaler()</pre></div></div></div></div></div>"
      ],
      "text/plain": [
       "StandardScaler()"
      ]
     },
     "execution_count": 21,
     "metadata": {},
     "output_type": "execute_result"
    }
   ],
   "source": [
    "# Load your trained model\n",
    "model = tf.keras.models.load_model('my_model.keras')\n",
    "scaler = StandardScaler()\n",
    "scaler.fit(features)  # Fit the scaler to your training data"
   ]
  },
  {
   "cell_type": "code",
   "execution_count": 22,
   "id": "4e9e4e55",
   "metadata": {},
   "outputs": [],
   "source": [
    "# Remove the target variable from the input data\n",
    "input_data.pop('diagnosis(1=m, 0=b)', None)"
   ]
  },
  {
   "cell_type": "code",
   "execution_count": 23,
   "id": "a4baccc0",
   "metadata": {},
   "outputs": [],
   "source": [
    "# Define a button to make predictions\n",
    "if st.button(\"Predict Diagnosis\"):\n",
    "    # Make predictions\n",
    "    input_array = np.array([list(input_data.values())])\n",
    "    standardized_input = scaler.transform(input_array)\n",
    "    predictions = model.predict(standardized_input)\n",
    "\n",
    "    # Display prediction results\n",
    "    if predictions[0][0] > 0.5:\n",
    "        st.success(\"Predicted Diagnosis: Malignant (1)\")\n",
    "    else:\n",
    "        st.success(\"Predicted Diagnosis: Benign (0)\")"
   ]
  },
  {
   "cell_type": "code",
   "execution_count": 24,
   "id": "c59af4b4",
   "metadata": {},
   "outputs": [],
   "source": [
    "# Reset button to clear input values\n",
    "if st.button(\"Reset\"):\n",
    "    input_data.clear()\n",
    "    for feature_name, (min_range, max_range) in column_ranges.items():\n",
    "        input_data[feature_name] = float(min_range)"
   ]
  },
  {
   "cell_type": "code",
   "execution_count": 25,
   "id": "9f90922f",
   "metadata": {},
   "outputs": [],
   "source": [
    "# Show the input data\n",
    "st.subheader(\"Input Data\")\n",
    "input_df = pd.DataFrame.from_dict(input_data, orient='index', columns=['Value'])\n",
    "st.write(input_df)\n"
   ]
  }
 ],
 "metadata": {
  "kernelspec": {
   "display_name": "Python 3 (ipykernel)",
   "language": "python",
   "name": "python3"
  },
  "language_info": {
   "codemirror_mode": {
    "name": "ipython",
    "version": 3
   },
   "file_extension": ".py",
   "mimetype": "text/x-python",
   "name": "python",
   "nbconvert_exporter": "python",
   "pygments_lexer": "ipython3",
   "version": "3.11.4"
  }
 },
 "nbformat": 4,
 "nbformat_minor": 5
}
