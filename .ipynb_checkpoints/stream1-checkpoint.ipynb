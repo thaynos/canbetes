{
 "cells": [
  {
   "cell_type": "code",
   "execution_count": 1,
   "id": "e4818a44",
   "metadata": {
    "scrolled": true
   },
   "outputs": [],
   "source": [
    "import streamlit as st\n",
    "import numpy as np\n",
    "import pandas as pd\n",
    "from sklearn.preprocessing import StandardScaler\n",
    "from sklearn.model_selection import train_test_split\n",
    "from sklearn import svm\n",
    "from sklearn.metrics import accuracy_score\n",
    "import joblib"
   ]
  },
  {
   "cell_type": "markdown",
   "id": "eb43f452",
   "metadata": {},
   "source": []
  },
  {
   "cell_type": "code",
   "execution_count": 2,
   "id": "dd513290",
   "metadata": {},
   "outputs": [],
   "source": [
    "# Load your CSV file\n",
    "def load_data():\n",
    "    # Replace 'your_file.csv' with the actual file path\n",
    "    df = pd.read_csv('diabetes.csv')\n",
    "    return df\n",
    "\n",
    "diabetes_dataset = load_data()"
   ]
  },
  {
   "cell_type": "code",
   "execution_count": 3,
   "id": "eb5947d5",
   "metadata": {},
   "outputs": [],
   "source": [
    "# Separate data and labels\n",
    "X = diabetes_dataset.drop(columns='Outcome', axis=1)\n",
    "Y = diabetes_dataset['Outcome']"
   ]
  },
  {
   "cell_type": "code",
   "execution_count": 4,
   "id": "38c3f2f1",
   "metadata": {},
   "outputs": [],
   "source": [
    "# Standardize the data\n",
    "scaler = StandardScaler()\n",
    "scaler.fit(X)\n",
    "X = scaler.transform(X)"
   ]
  },
  {
   "cell_type": "code",
   "execution_count": 5,
   "id": "bb930b6a",
   "metadata": {
    "scrolled": false
   },
   "outputs": [
    {
     "name": "stderr",
     "output_type": "stream",
     "text": [
      "2023-09-12 22:52:47.318 \n",
      "  \u001b[33m\u001b[1mWarning:\u001b[0m to view this Streamlit app on a browser, run it with the following\n",
      "  command:\n",
      "\n",
      "    streamlit run D:\\Anaconda\\Lib\\site-packages\\ipykernel_launcher.py [ARGUMENTS]\n"
     ]
    },
    {
     "data": {
      "text/plain": [
       "DeltaGenerator()"
      ]
     },
     "execution_count": 5,
     "metadata": {},
     "output_type": "execute_result"
    }
   ],
   "source": [
    "# Load the trained model using joblib\n",
    "classifier = joblib.load('svm_diabetes_model.joblib')\n",
    "\n",
    "st.title(\"Diabetes Prediction\")"
   ]
  },
  {
   "cell_type": "code",
   "execution_count": 6,
   "id": "8e1045b6",
   "metadata": {},
   "outputs": [
    {
     "name": "stderr",
     "output_type": "stream",
     "text": [
      "2023-09-12 22:52:47.329 Session state does not function when running a script without `streamlit run`\n"
     ]
    }
   ],
   "source": [
    "# Initialize input fields\n",
    "if 'Pregnancies' not in st.session_state:\n",
    "    st.session_state['Pregnancies'] = 0\n",
    "if 'Glucose' not in st.session_state:\n",
    "    st.session_state['Glucose'] = 0\n",
    "if 'BloodPressure' not in st.session_state:\n",
    "    st.session_state['BloodPressure'] = 0\n",
    "if 'SkinThickness' not in st.session_state:\n",
    "    st.session_state['SkinThickness'] = 0\n",
    "if 'Insulin' not in st.session_state:\n",
    "    st.session_state['Insulin'] = 0\n",
    "if 'BMI' not in st.session_state:\n",
    "    st.session_state['BMI'] = 0.0\n",
    "if 'DiabetesPedigreeFunction' not in st.session_state:\n",
    "    st.session_state['DiabetesPedigreeFunction'] = 0.078\n",
    "if 'Age' not in st.session_state:\n",
    "    st.session_state['Age'] = 21"
   ]
  },
  {
   "cell_type": "code",
   "execution_count": 7,
   "id": "23be9d6f",
   "metadata": {},
   "outputs": [],
   "source": [
    "# Randomizer button\n",
    "if st.button(\"Value Randomizer\"):\n",
    "    st.session_state['Pregnancies'] = np.random.randint(0, 18)\n",
    "    st.session_state['Glucose'] = np.random.randint(0, 200)\n",
    "    st.session_state['BloodPressure'] = np.random.randint(0, 123)\n",
    "    st.session_state['SkinThickness'] = np.random.randint(0, 100)\n",
    "    st.session_state['Insulin'] = np.random.randint(0, 847)\n",
    "    st.session_state['BMI'] = np.random.uniform(0.0, 67.1)\n",
    "    st.session_state['DiabetesPedigreeFunction'] = np.random.uniform(0.078, 2.42)\n",
    "    st.session_state['Age'] = np.random.randint(21, 82)"
   ]
  },
  {
   "cell_type": "code",
   "execution_count": 8,
   "id": "0ec05026",
   "metadata": {},
   "outputs": [
    {
     "ename": "KeyError",
     "evalue": "'st.session_state has no key \"Pregnancies\". Did you forget to initialize it? More info: https://docs.streamlit.io/library/advanced-features/session-state#initialization'",
     "output_type": "error",
     "traceback": [
      "\u001b[1;31m---------------------------------------------------------------------------\u001b[0m",
      "\u001b[1;31mKeyError\u001b[0m                                  Traceback (most recent call last)",
      "File \u001b[1;32mD:\\Anaconda\\Lib\\site-packages\\streamlit\\runtime\\state\\session_state.py:380\u001b[0m, in \u001b[0;36mSessionState.__getitem__\u001b[1;34m(self, key)\u001b[0m\n\u001b[0;32m    379\u001b[0m \u001b[38;5;28;01mtry\u001b[39;00m:\n\u001b[1;32m--> 380\u001b[0m     \u001b[38;5;28;01mreturn\u001b[39;00m \u001b[38;5;28mself\u001b[39m\u001b[38;5;241m.\u001b[39m_getitem(widget_id, key)\n\u001b[0;32m    381\u001b[0m \u001b[38;5;28;01mexcept\u001b[39;00m \u001b[38;5;167;01mKeyError\u001b[39;00m:\n",
      "File \u001b[1;32mD:\\Anaconda\\Lib\\site-packages\\streamlit\\runtime\\state\\session_state.py:425\u001b[0m, in \u001b[0;36mSessionState._getitem\u001b[1;34m(self, widget_id, user_key)\u001b[0m\n\u001b[0;32m    424\u001b[0m \u001b[38;5;66;03m# We'll never get here\u001b[39;00m\n\u001b[1;32m--> 425\u001b[0m \u001b[38;5;28;01mraise\u001b[39;00m \u001b[38;5;167;01mKeyError\u001b[39;00m\n",
      "\u001b[1;31mKeyError\u001b[0m: ",
      "\nDuring handling of the above exception, another exception occurred:\n",
      "\u001b[1;31mKeyError\u001b[0m                                  Traceback (most recent call last)",
      "Cell \u001b[1;32mIn[8], line 3\u001b[0m\n\u001b[0;32m      1\u001b[0m \u001b[38;5;66;03m# Input fields\u001b[39;00m\n\u001b[0;32m      2\u001b[0m st\u001b[38;5;241m.\u001b[39mmarkdown(\u001b[38;5;124m\"\u001b[39m\u001b[38;5;124m### Input Fields\u001b[39m\u001b[38;5;124m\"\u001b[39m)\n\u001b[1;32m----> 3\u001b[0m st\u001b[38;5;241m.\u001b[39msession_state[\u001b[38;5;124m'\u001b[39m\u001b[38;5;124mPregnancies\u001b[39m\u001b[38;5;124m'\u001b[39m] \u001b[38;5;241m=\u001b[39m st\u001b[38;5;241m.\u001b[39mnumber_input(\u001b[38;5;124m\"\u001b[39m\u001b[38;5;124mPregnancies\u001b[39m\u001b[38;5;124m\"\u001b[39m, min_value\u001b[38;5;241m=\u001b[39m\u001b[38;5;241m0\u001b[39m, max_value\u001b[38;5;241m=\u001b[39m\u001b[38;5;241m17\u001b[39m, value\u001b[38;5;241m=\u001b[39mst\u001b[38;5;241m.\u001b[39msession_state[\u001b[38;5;124m'\u001b[39m\u001b[38;5;124mPregnancies\u001b[39m\u001b[38;5;124m'\u001b[39m], step\u001b[38;5;241m=\u001b[39m\u001b[38;5;241m1\u001b[39m)\n\u001b[0;32m      4\u001b[0m st\u001b[38;5;241m.\u001b[39msession_state[\u001b[38;5;124m'\u001b[39m\u001b[38;5;124mGlucose\u001b[39m\u001b[38;5;124m'\u001b[39m] \u001b[38;5;241m=\u001b[39m st\u001b[38;5;241m.\u001b[39mnumber_input(\u001b[38;5;124m\"\u001b[39m\u001b[38;5;124mGlucose\u001b[39m\u001b[38;5;124m\"\u001b[39m, min_value\u001b[38;5;241m=\u001b[39m\u001b[38;5;241m0\u001b[39m, max_value\u001b[38;5;241m=\u001b[39m\u001b[38;5;241m199\u001b[39m, value\u001b[38;5;241m=\u001b[39mst\u001b[38;5;241m.\u001b[39msession_state[\u001b[38;5;124m'\u001b[39m\u001b[38;5;124mGlucose\u001b[39m\u001b[38;5;124m'\u001b[39m], step\u001b[38;5;241m=\u001b[39m\u001b[38;5;241m1\u001b[39m)\n\u001b[0;32m      5\u001b[0m st\u001b[38;5;241m.\u001b[39msession_state[\u001b[38;5;124m'\u001b[39m\u001b[38;5;124mBloodPressure\u001b[39m\u001b[38;5;124m'\u001b[39m] \u001b[38;5;241m=\u001b[39m st\u001b[38;5;241m.\u001b[39mnumber_input(\u001b[38;5;124m\"\u001b[39m\u001b[38;5;124mBlood Pressure\u001b[39m\u001b[38;5;124m\"\u001b[39m, min_value\u001b[38;5;241m=\u001b[39m\u001b[38;5;241m0\u001b[39m, max_value\u001b[38;5;241m=\u001b[39m\u001b[38;5;241m122\u001b[39m, value\u001b[38;5;241m=\u001b[39mst\u001b[38;5;241m.\u001b[39msession_state[\u001b[38;5;124m'\u001b[39m\u001b[38;5;124mBloodPressure\u001b[39m\u001b[38;5;124m'\u001b[39m], step\u001b[38;5;241m=\u001b[39m\u001b[38;5;241m1\u001b[39m)\n",
      "File \u001b[1;32mD:\\Anaconda\\Lib\\site-packages\\streamlit\\runtime\\state\\session_state_proxy.py:90\u001b[0m, in \u001b[0;36mSessionStateProxy.__getitem__\u001b[1;34m(self, key)\u001b[0m\n\u001b[0;32m     88\u001b[0m key \u001b[38;5;241m=\u001b[39m \u001b[38;5;28mstr\u001b[39m(key)\n\u001b[0;32m     89\u001b[0m require_valid_user_key(key)\n\u001b[1;32m---> 90\u001b[0m \u001b[38;5;28;01mreturn\u001b[39;00m get_session_state()[key]\n",
      "File \u001b[1;32mD:\\Anaconda\\Lib\\site-packages\\streamlit\\runtime\\state\\safe_session_state.py:113\u001b[0m, in \u001b[0;36mSafeSessionState.__getitem__\u001b[1;34m(self, key)\u001b[0m\n\u001b[0;32m    110\u001b[0m \u001b[38;5;28;01mif\u001b[39;00m \u001b[38;5;28mself\u001b[39m\u001b[38;5;241m.\u001b[39m_disconnected:\n\u001b[0;32m    111\u001b[0m     \u001b[38;5;28;01mraise\u001b[39;00m \u001b[38;5;167;01mKeyError\u001b[39;00m(key)\n\u001b[1;32m--> 113\u001b[0m \u001b[38;5;28;01mreturn\u001b[39;00m \u001b[38;5;28mself\u001b[39m\u001b[38;5;241m.\u001b[39m_state[key]\n",
      "File \u001b[1;32mD:\\Anaconda\\Lib\\site-packages\\streamlit\\runtime\\state\\session_state.py:382\u001b[0m, in \u001b[0;36mSessionState.__getitem__\u001b[1;34m(self, key)\u001b[0m\n\u001b[0;32m    380\u001b[0m     \u001b[38;5;28;01mreturn\u001b[39;00m \u001b[38;5;28mself\u001b[39m\u001b[38;5;241m.\u001b[39m_getitem(widget_id, key)\n\u001b[0;32m    381\u001b[0m \u001b[38;5;28;01mexcept\u001b[39;00m \u001b[38;5;167;01mKeyError\u001b[39;00m:\n\u001b[1;32m--> 382\u001b[0m     \u001b[38;5;28;01mraise\u001b[39;00m \u001b[38;5;167;01mKeyError\u001b[39;00m(_missing_key_error_message(key))\n",
      "\u001b[1;31mKeyError\u001b[0m: 'st.session_state has no key \"Pregnancies\". Did you forget to initialize it? More info: https://docs.streamlit.io/library/advanced-features/session-state#initialization'"
     ]
    }
   ],
   "source": [
    "# Input fields\n",
    "st.markdown(\"### Input Fields\")\n",
    "st.session_state['Pregnancies'] = st.number_input(\"Pregnancies\", min_value=0, max_value=17, value=st.session_state['Pregnancies'], step=1)\n",
    "st.session_state['Glucose'] = st.number_input(\"Glucose\", min_value=0, max_value=199, value=st.session_state['Glucose'], step=1)\n",
    "st.session_state['BloodPressure'] = st.number_input(\"Blood Pressure\", min_value=0, max_value=122, value=st.session_state['BloodPressure'], step=1)\n",
    "st.session_state['SkinThickness'] = st.number_input(\"Skin Thickness\", min_value=0, max_value=99, value=st.session_state['SkinThickness'], step=1)\n",
    "st.session_state['Insulin'] = st.number_input(\"Insulin\", min_value=0, max_value=846, value=st.session_state['Insulin'], step=1)\n",
    "st.session_state['BMI'] = st.number_input(\"BMI\", min_value=0.0, max_value=67.1, value=st.session_state['BMI'], step=0.1)\n",
    "st.session_state['DiabetesPedigreeFunction'] = st.number_input(\"Diabetes Pedigree Function\", min_value=0.078, max_value=2.42, value=st.session_state['DiabetesPedigreeFunction'], step=0.001)\n",
    "st.session_state['Age'] = st.number_input(\"Age\", min_value=21, max_value=81, value=st.session_state['Age'], step=1)"
   ]
  },
  {
   "cell_type": "code",
   "execution_count": null,
   "id": "c10f3b8d",
   "metadata": {},
   "outputs": [],
   "source": [
    "# Prediction button\n",
    "if st.button(\"Predict\"):\n",
    "    input_data = np.array([[st.session_state['Pregnancies'], st.session_state['Glucose'], st.session_state['BloodPressure'], st.session_state['SkinThickness'], st.session_state['Insulin'], st.session_state['BMI'], st.session_state['DiabetesPedigreeFunction'], st.session_state['Age']]])\n",
    "    std_data = scaler.transform(input_data)\n",
    "    prediction = classifier.predict(std_data)\n",
    "\n",
    "    if prediction[0] == 0:\n",
    "        prediction_text = \"The person is not diabetic.\"\n",
    "    else:\n",
    "        prediction_text = \"The person is diabetic.\"\n",
    "\n",
    "    st.subheader(\"Prediction Result:\")\n",
    "    st.write(prediction_text)"
   ]
  },
  {
   "cell_type": "code",
   "execution_count": null,
   "id": "1b5a2472",
   "metadata": {},
   "outputs": [],
   "source": [
    "# Reset values button\n",
    "if st.button(\"Reset Values\"):\n",
    "    # Reset input field values to their initial values\n",
    "    st.session_state['Pregnancies'] = 0\n",
    "    st.session_state['Glucose'] = 0\n",
    "    st.session_state['BloodPressure'] = 0\n",
    "    st.session_state['SkinThickness'] = 0\n",
    "    st.session_state['Insulin'] = 0\n",
    "    st.session_state['BMI'] = 0.0\n",
    "    st.session_state['DiabetesPedigreeFunction'] = 0.078\n",
    "    st.session_state['Age'] = 21"
   ]
  },
  {
   "cell_type": "code",
   "execution_count": null,
   "id": "e415a7d3",
   "metadata": {},
   "outputs": [],
   "source": []
  }
 ],
 "metadata": {
  "kernelspec": {
   "display_name": "Python 3 (ipykernel)",
   "language": "python",
   "name": "python3"
  },
  "language_info": {
   "codemirror_mode": {
    "name": "ipython",
    "version": 3
   },
   "file_extension": ".py",
   "mimetype": "text/x-python",
   "name": "python",
   "nbconvert_exporter": "python",
   "pygments_lexer": "ipython3",
   "version": "3.11.4"
  }
 },
 "nbformat": 4,
 "nbformat_minor": 5
}
